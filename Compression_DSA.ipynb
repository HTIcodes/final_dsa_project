{
  "nbformat": 4,
  "nbformat_minor": 0,
  "metadata": {
    "colab": {
      "provenance": [],
      "gpuType": "T4"
    },
    "kernelspec": {
      "name": "python3",
      "display_name": "Python 3"
    },
    "language_info": {
      "name": "python"
    },
    "accelerator": "GPU"
  },
  "cells": [
    {
      "cell_type": "markdown",
      "source": [
        "#Implementing Burrows-Wheeler Transformation (BWT) and Decoding for Compression\n",
        "**Overview of Burrows-Wheeler Transformation**\n",
        "The Burrows-Wheeler Transformation is a preprocessing step in compression algorithms like bzip2. It reorders the input text to create long runs of repeated characters, which makes it more suitable for\n",
        "compression using run-length encoding or entropy coding.\n",
        "****\n",
        "**Steps of BWT**\n",
        "\n",
        "\n",
        "1.    **Input String**: Start with the original string and append a special end-of-string character (e.g., $)\n",
        "that is lexicographically smaller than all other characters\n",
        "2.    **Create Rotations**: Generate all cyclic rotations of the string.\n",
        "3.  **Sort Rotations**: Sort these rotations lexicographically.\n",
        "4.  **Output the Last Column**: Extract the last character of each sorted rotation to form the BWT\n",
        "output.\n",
        "\n",
        "****\n",
        "**Decoding the BWT**\n",
        "The decoding process reconstructs the original string from the transformed string.\n",
        "\n",
        "**Steps of Decoding**\n",
        "1. Input the BWT String: Start with the BWT string.\n",
        "2. Initialize the Table: Create an empty table with as many rows as the length of the string.\n",
        "3. Iteratively Sort: Insert the BWT string as a new column to the table and sort the rows\n",
        "lexicographically. Repeat until the table is complete.\n",
        "4. Identify Original String: Find the row ending with the special end-of-string character ($). Read\n",
        "off the characters row-wise to get the original string.\n",
        "\n",
        "\n"
      ],
      "metadata": {
        "id": "3m8nRwScXBvF"
      }
    },
    {
      "cell_type": "markdown",
      "source": [
        "## **BWT**"
      ],
      "metadata": {
        "id": "ymJaJ-5ACiKY"
      }
    },
    {
      "cell_type": "code",
      "source": [
        "# Required libraries for visualization and implementation\n",
        "from pprint import pprint\n",
        "from prettytable import PrettyTable\n",
        "from tabulate import tabulate\n",
        "import heapq"
      ],
      "metadata": {
        "id": "SpXdVd2aEReD"
      },
      "execution_count": 280,
      "outputs": []
    },
    {
      "cell_type": "code",
      "source": [
        "# Decorators for better vissualization\n",
        "class Decorator:\n",
        "    def __init__(self, field_name, param1=\"\"):\n",
        "        self.field_name = field_name\n",
        "        self.param1 = param1\n",
        "\n",
        "    def dec1(self, end=\"\\n\"):\n",
        "        print(\"+\", end=\"\")\n",
        "        for i in range(len(self.field_name) + 6):\n",
        "            print(\"-\", end=\"\")\n",
        "        print(\"*\", end=\"\")\n",
        "\n",
        "        if self.param1 != \"\":\n",
        "            for i in range(len(self.param1) + 6):\n",
        "                print(\"-\", end=\"\")\n",
        "            print(\"+\", end=end)\n",
        "\n",
        "    def dec2(self, end=\"\"):\n",
        "        print(\"|\", self.field_name, end=end, sep=\"    \")\n",
        "        if self.param1 != \"\":\n",
        "            print(\"  :\", self.param1, \"|\", sep=\"   \")\n",
        "\n",
        "    def dec3(self, end=\"\\n\"):\n",
        "        print(\"+\", end=\"\")\n",
        "        for i in range(len(self.field_name) + 12):\n",
        "            print(\"-\", end=\"\")\n",
        "        print(\"*\", end=\"\")\n",
        "\n",
        "        if self.param1 != \"\":\n",
        "            for i in range(len(self.param1) + 12):\n",
        "                print(\"-\", end=\"\")\n",
        "            print(\"+\", end=end)\n",
        "\n",
        "    def full_decorator1(self):\n",
        "        self.dec1()\n",
        "        self.dec2()\n",
        "        self.dec1()\n",
        "\n",
        "    def full_decorator2(self):\n",
        "      self.dec3()\n",
        "      self.dec2()\n",
        "      self.dec3()"
      ],
      "metadata": {
        "id": "TlK6fOmy8kXf"
      },
      "execution_count": 281,
      "outputs": []
    },
    {
      "cell_type": "code",
      "source": [
        "class BWT:\n",
        "    # Class Constructor :\n",
        "    def __init__(self, input_str):\n",
        "        self.input_str = input_str\n",
        "        self.rotated = False\n",
        "        self.sorted = False\n",
        "        self.converted = False\n",
        "\n",
        "        self.str1 = [\"$\"]\n",
        "        self.str2 = [input_str]\n",
        "\n",
        "        self.bwt_li = [input_str]\n",
        "        self.sorted_bwt_li = []\n",
        "\n",
        "        self.matrix = []\n",
        "        self.first = dict()\n",
        "        self.last = ()\n",
        "        self.ranks = []\n",
        "        self.s_freq = dict()\n",
        "        self.bwt_output = \"\"\n",
        "\n",
        "    # Checks whether the input string contains one $ or not\n",
        "    def is_valid(self):\n",
        "        for i in self.input_str:\n",
        "            if i == \"$\":\n",
        "                return True\n",
        "\n",
        "        return False\n",
        "\n",
        "    # Create rotations for the given string and store it in self.bwt_li if the string is valid\n",
        "    def create_rotation(self):\n",
        "        if self.is_valid():\n",
        "            new_input_str = self.input_str[0:len(self.input_str) - 1]\n",
        "            for i in range(len(new_input_str)):\n",
        "                str1 = self.input_str[:i + 1]\n",
        "                str2 = self.input_str[i + 1:len(self.input_str) - 1]\n",
        "                self.str1.append(str1 + \"$\")\n",
        "                self.str2.append(\"$\" + str2)\n",
        "                rotated_str = str2 + \"$\" + str1\n",
        "                self.bwt_li.append(rotated_str)\n",
        "            self.rotated = True\n",
        "\n",
        "        else:\n",
        "          print(\"The string is not valid !\")\n",
        "\n",
        "    # Sort the created rotations and store it in self.sorted_bwt_li, if only the string is valid and was rotated\n",
        "    def sort_rotation(self):\n",
        "        if self.is_valid() and self.rotated:\n",
        "            self.sorted_bwt_li = sorted(self.bwt_li)\n",
        "            self.sorted = True\n",
        "\n",
        "        else:\n",
        "            print(\"The string is not valid !\")\n",
        "\n",
        "    # Finding the actual value of BWT (output) from the sorted bwt list\n",
        "    def find_bwt_output(self):\n",
        "        if self.rotated and self.sorted:\n",
        "            for i in self.sorted_bwt_li:\n",
        "                self.bwt_output += i[len(self.input_str) - 1]\n",
        "\n",
        "            return self.bwt_output\n",
        "\n",
        "        else:\n",
        "            print(\"The string must be both rotated and sorted !\")\n",
        "\n",
        "    # Functions to show the results graphically\n",
        "    def print_table(self, show_bwt_output=True, show_str1=False, show_str2=False):\n",
        "        if self.rotated:\n",
        "            table = PrettyTable()\n",
        "            table.add_column(\"Rotations\", column=self.bwt_li)\n",
        "            if self.sorted:\n",
        "                table.add_column(\"Sorted Rotations\", column=self.sorted_bwt_li)\n",
        "\n",
        "            if show_bwt_output:\n",
        "                dec = Decorator(\"BWT Output\", self.bwt_output)\n",
        "                dec.full_decorator1()\n",
        "\n",
        "            if show_str1:\n",
        "                table.add_column(\"STR1\", column=self.str1)\n",
        "\n",
        "            if show_str2:\n",
        "                table.add_column(\"STR2\", column=self.str2)\n",
        "\n",
        "            print(table)\n",
        "\n",
        "    def print_matrix(self, show_sorted=True, show_rotated=False, show_str1=False, show_str2=False):\n",
        "        if self.sorted and show_sorted:\n",
        "            print(\"Sorted Matrix\")\n",
        "            print(tabulate(self.sorted_bwt_li, showindex=True), end=\"\\n\\n\")\n",
        "\n",
        "        if self.rotated and show_rotated:\n",
        "            print(\"Rotations Matrix\")\n",
        "            print(tabulate(self.bwt_li, showindex=True), end=\"\\n\\n\")\n",
        "\n",
        "        if show_str1:\n",
        "            print(\"Str1 Matrix\")\n",
        "            print(tabulate(self.str1, showindex=True), end=\"\\n\\n\")\n",
        "        if show_str2:\n",
        "            print(\"Str2 Matrix\")\n",
        "            print(tabulate(self.str2, showindex=True), end=\"\\n\\n\")\n",
        "\n",
        "    # Converting the sorted rotations to matrix\n",
        "    def converting_matrix(self, show=False):\n",
        "        for i in self.sorted_bwt_li:\n",
        "            self.matrix.append(list(i))\n",
        "\n",
        "        if show:\n",
        "            pprint(self.matrix)\n",
        "        self.converted = True\n",
        "\n",
        "        return self.matrix\n",
        "\n",
        "    # Ranking the characters from the BWT output based on their occurrences\n",
        "    def rank_bwt(self):\n",
        "        for char in self.bwt_output:\n",
        "            if char not in self.s_freq:\n",
        "                self.s_freq[char] = 0\n",
        "            self.ranks.append(self.s_freq[char])\n",
        "            self.s_freq[char] += 1\n",
        "        return self.ranks, self.s_freq\n",
        "\n",
        "    def first_col(self):\n",
        "        c_freq = 0\n",
        "        for c, count in sorted(self.s_freq.items()):\n",
        "            self.first[c] = (c_freq, c_freq + count)\n",
        "            c_freq += count\n",
        "\n",
        "        return self.first\n",
        "\n",
        "    def decode_bwt(self):\n",
        "        # running the rank_bwt and first_col methods to get the first column and rankings of the characters\n",
        "        self.rank_bwt()\n",
        "        self.first_col()\n",
        "\n",
        "        # Starting at the position of '$' in bwt_output\n",
        "        row_i = self.bwt_output.index('$')\n",
        "        reconstructed_str = \"\"\n",
        "\n",
        "        # Rebuild the original string by iterating until we have all characters (it equals to length of input string)\n",
        "        for _ in range(len(self.input_str)):\n",
        "            # Append the current character (last column) to the reconstructed string\n",
        "            reconstructed_str = self.bwt_output[row_i] + reconstructed_str\n",
        "\n",
        "            # Find the next row index by using the rank of the character in the first column\n",
        "            char = reconstructed_str[0]\n",
        "            row_i = self.first[char][0] + self.ranks[row_i]\n",
        "\n",
        "\n",
        "        return reconstructed_str"
      ],
      "metadata": {
        "id": "BE18xORs8mln"
      },
      "execution_count": 282,
      "outputs": []
    },
    {
      "cell_type": "code",
      "source": [
        "bwt = BWT(\"banana$\")\n",
        "bwt.create_rotation()\n",
        "bwt.sort_rotation()\n",
        "bwt.find_bwt_output()\n",
        "bwt.print_table(show_bwt_output=True, show_str1=True, show_str2=True)\n",
        "print()\n",
        "print(\"[Converting matrix :]\")\n",
        "bwt.converting_matrix(show=True)\n",
        "print()\n",
        "print(\"Converted back bwt:\")\n",
        "bwt.decode_bwt()"
      ],
      "metadata": {
        "colab": {
          "base_uri": "https://localhost:8080/",
          "height": 477
        },
        "id": "jc0V8AG4Ea4t",
        "outputId": "8a618dec-bb6e-4cc9-ccdc-31119dcb7db6"
      },
      "execution_count": 283,
      "outputs": [
        {
          "output_type": "stream",
          "name": "stdout",
          "text": [
            "+----------------*-------------+\n",
            "|    BWT Output  :   annb$aa   |\n",
            "+----------------*-------------+\n",
            "+-----------+------------------+---------+---------+\n",
            "| Rotations | Sorted Rotations |   STR1  |   STR2  |\n",
            "+-----------+------------------+---------+---------+\n",
            "|  banana$  |     $banana      |    $    | banana$ |\n",
            "|  anana$b  |     a$banan      |    b$   |  $anana |\n",
            "|  nana$ba  |     ana$ban      |   ba$   |  $nana  |\n",
            "|  ana$ban  |     anana$b      |   ban$  |   $ana  |\n",
            "|  na$bana  |     banana$      |  bana$  |   $na   |\n",
            "|  a$banan  |     na$bana      |  banan$ |    $a   |\n",
            "|  $banana  |     nana$ba      | banana$ |    $    |\n",
            "+-----------+------------------+---------+---------+\n",
            "\n",
            "[Converting matrix :]\n",
            "[['$', 'b', 'a', 'n', 'a', 'n', 'a'],\n",
            " ['a', '$', 'b', 'a', 'n', 'a', 'n'],\n",
            " ['a', 'n', 'a', '$', 'b', 'a', 'n'],\n",
            " ['a', 'n', 'a', 'n', 'a', '$', 'b'],\n",
            " ['b', 'a', 'n', 'a', 'n', 'a', '$'],\n",
            " ['n', 'a', '$', 'b', 'a', 'n', 'a'],\n",
            " ['n', 'a', 'n', 'a', '$', 'b', 'a']]\n",
            "\n",
            "Converted back bwt:\n"
          ]
        },
        {
          "output_type": "execute_result",
          "data": {
            "text/plain": [
              "'banana$'"
            ],
            "application/vnd.google.colaboratory.intrinsic+json": {
              "type": "string"
            }
          },
          "metadata": {},
          "execution_count": 283
        }
      ]
    },
    {
      "cell_type": "markdown",
      "source": [
        "#**Run-Length Encoding (RLE)**\n",
        "****\n",
        "Run-Length Encoding is a simple compression algorithm often used in conjunction with BWT to take\n",
        "advantage of the repeated characters in the transformed string. It works by replacing sequences of the\n",
        "same character with a single character and a count of its repetitions.\n",
        "****\n",
        "**Steps of RLE**\n",
        "1. Traverse the String: Iterate through the string, keeping track of consecutive occurrences of each\n",
        "character.\n",
        "2. Output Compressed Form: For each sequence of repeated characters, output the character\n",
        "followed by the count of repetitions\n",
        "****\n",
        "**Example**\n",
        "* Input: aaabbbbcc\n",
        "* RLE Output: a3b4c2\n",
        "\n",
        "**Advantages**\n",
        "* Works best for strings with long runs of repeated characters (e.g., BWT output).\n",
        "* Simple to implement and efficient for specific data types.\n"
      ],
      "metadata": {
        "id": "ASOC4pt6oZKr"
      }
    },
    {
      "cell_type": "markdown",
      "source": [
        "## **RLE**"
      ],
      "metadata": {
        "id": "rMqVXRXQCmNa"
      }
    },
    {
      "cell_type": "code",
      "source": [
        "class RLE:\n",
        "    def __init__(self, input_str):\n",
        "        self.input_str = input_str\n",
        "        self.rle_output = \"\"\n",
        "\n",
        "    def rle_encode(self):\n",
        "        encoded_str = []\n",
        "        count = 1\n",
        "\n",
        "        for i in range(1, len(self.input_str)):\n",
        "            if self.input_str[i] == self.input_str[i-1]:\n",
        "                count+=1\n",
        "            else:\n",
        "                encoded_str.append(f\"{count}{self.input_str[i-1]}\")\n",
        "                count = 1\n",
        "        encoded_str.append(f\"{count}{self.input_str[-1]}\")\n",
        "\n",
        "        self.rle_output = ''.join(encoded_str)\n",
        "\n",
        "    def rle_decode(self):\n",
        "        decoded_str = []\n",
        "        count = ''\n",
        "\n",
        "        for char in self.rle_output:\n",
        "            if char.isdigit():\n",
        "                count += char\n",
        "            else:\n",
        "                decoded_str.append(char * int(count))\n",
        "                count = ''\n",
        "\n",
        "        return ''.join(decoded_str)\n",
        "\n",
        "\n",
        "    def print_output(self):\n",
        "              dec_output = Decorator(\"RLE Input\", self.input_str)\n",
        "              dec_output.full_decorator1()\n",
        "\n",
        "              dec_output = Decorator(\"RLE Output\", self.rle_output)\n",
        "              dec_output.full_decorator1()"
      ],
      "metadata": {
        "id": "TMTp7-88LGkS"
      },
      "execution_count": 284,
      "outputs": []
    },
    {
      "cell_type": "code",
      "source": [
        "bwt.bwt_output"
      ],
      "metadata": {
        "colab": {
          "base_uri": "https://localhost:8080/",
          "height": 35
        },
        "id": "mXB6fKStMehV",
        "outputId": "a95c0ac4-cc6e-4440-fec3-3ee269b29131"
      },
      "execution_count": 285,
      "outputs": [
        {
          "output_type": "execute_result",
          "data": {
            "text/plain": [
              "'annb$aa'"
            ],
            "application/vnd.google.colaboratory.intrinsic+json": {
              "type": "string"
            }
          },
          "metadata": {},
          "execution_count": 285
        }
      ]
    },
    {
      "cell_type": "code",
      "source": [
        "rle = RLE(bwt.bwt_output)\n",
        "rle.rle_encode()\n",
        "rle.rle_output"
      ],
      "metadata": {
        "colab": {
          "base_uri": "https://localhost:8080/",
          "height": 35
        },
        "id": "K6BXM3LDMyS0",
        "outputId": "5b582ad1-027c-4c78-c51b-07a2fae22f45"
      },
      "execution_count": 286,
      "outputs": [
        {
          "output_type": "execute_result",
          "data": {
            "text/plain": [
              "'1a2n1b1$2a'"
            ],
            "application/vnd.google.colaboratory.intrinsic+json": {
              "type": "string"
            }
          },
          "metadata": {},
          "execution_count": 286
        }
      ]
    },
    {
      "cell_type": "code",
      "source": [
        "rle.rle_decode()"
      ],
      "metadata": {
        "colab": {
          "base_uri": "https://localhost:8080/",
          "height": 35
        },
        "id": "WUEQJyhtM8HV",
        "outputId": "031ad598-dcc7-479d-b5ba-46b7cf4d8489"
      },
      "execution_count": 287,
      "outputs": [
        {
          "output_type": "execute_result",
          "data": {
            "text/plain": [
              "'annb$aa'"
            ],
            "application/vnd.google.colaboratory.intrinsic+json": {
              "type": "string"
            }
          },
          "metadata": {},
          "execution_count": 287
        }
      ]
    },
    {
      "cell_type": "markdown",
      "source": [
        "#**Huffman Coding**\n",
        "Huffman Coding is an entropy-based compression algorithm that assigns variable-length codes to\n",
        "characters based on their frequencies. More frequent characters get shorter codes.\n",
        "****\n",
        "**Steps of Huffman Coding**\n",
        "1. Build Frequency Table: Count the frequency of each character in the input string.\n",
        "2. Build Huffman Tree: Construct a binary tree where each leaf node represents a character, and\n",
        "the path from root to leaf determines its code.\n",
        "3. Generate Codes: Assign binary codes to characters based on the tree structure.\n",
        "4. Encode the String: Replace each character in the input with its corresponding code\n",
        "****\n",
        "**Advantages**\n",
        "* Provides optimal compression for a given set of character frequencies.\n",
        "* Frequently used in conjunction with BWT for high-performance compression algorithms.\n"
      ],
      "metadata": {
        "id": "BKD8zZSRpcIy"
      }
    },
    {
      "cell_type": "markdown",
      "source": [
        "## **Huffman**"
      ],
      "metadata": {
        "id": "CMaE_OjKCpul"
      }
    },
    {
      "cell_type": "code",
      "source": [
        "# Downloading the required library\n",
        "! pip install bitarray"
      ],
      "metadata": {
        "colab": {
          "base_uri": "https://localhost:8080/"
        },
        "id": "XOFcWyuUR4QW",
        "outputId": "e47ddde5-c696-4b4a-a9cc-b7be449f1230"
      },
      "execution_count": 288,
      "outputs": [
        {
          "output_type": "stream",
          "name": "stdout",
          "text": [
            "Requirement already satisfied: bitarray in /usr/local/lib/python3.11/dist-packages (3.0.0)\n"
          ]
        }
      ]
    },
    {
      "cell_type": "code",
      "source": [
        "from heapq import heappush, heappop, heapify\n",
        "from collections import defaultdict\n",
        "from bitarray import bitarray\n",
        "\n",
        "class Huffman:\n",
        "    def __init__(self, input_str):\n",
        "        self.input_str = input_str\n",
        "        self.huffman_dict = {}\n",
        "        self.encoded_text = bitarray()\n",
        "        self.decoded_text = \"\"\n",
        "\n",
        "    def frequency(self):\n",
        "        freq = defaultdict(int)\n",
        "        i = 0\n",
        "        while i < len(self.input_str):\n",
        "            count = int(self.input_str[i])\n",
        "            symbol = self.input_str[i+1]\n",
        "            freq[symbol] = count\n",
        "            i += 2  # Move to the next pair\n",
        "        return freq\n",
        "\n",
        "    def huffman_tree(self):\n",
        "        freq = self.frequency()\n",
        "        heap = [[fq, [sym, \"\"]] for sym, fq in freq.items()]\n",
        "        heapify(heap)\n",
        "\n",
        "        while len(heap) > 1:\n",
        "            left = heappop(heap)\n",
        "            right = heappop(heap)\n",
        "\n",
        "            for pair in left[1:]:\n",
        "                pair[1] = '0' + pair[1]\n",
        "            for pair in right[1:]:\n",
        "                pair[1] = '1' + pair[1]\n",
        "\n",
        "            heappush(heap, [left[0] + right[0]] + left[1:] + right[1:])\n",
        "\n",
        "        huffman_list = heap[0][1:]  # The final merged list\n",
        "        self.huffman_dict = {symbol: bitarray(code) for symbol, code in huffman_list}\n",
        "\n",
        "    def huffman_encode(self):\n",
        "        \"\"\"Encodes the original RLE string using the Huffman tree.\"\"\"\n",
        "        self.encoded_text = bitarray()\n",
        "        for i in range(0, len(self.input_str), 2):\n",
        "            # Extract freq\n",
        "            count = int(self.input_str[i])\n",
        "\n",
        "            # Extract symbol\n",
        "            symbol = self.input_str[i+1]\n",
        "\n",
        "            # Encode and repeat\n",
        "            self.encoded_text.extend(self.huffman_dict[symbol] * count)\n",
        "\n",
        "    def huffman_decode(self):\n",
        "        \"\"\"Decodes the Huffman-encoded bitarray back into RLE.\"\"\"\n",
        "        decoded_text = []\n",
        "        temp = bitarray()\n",
        "        inv_huffman_dict = {v.tobytes(): k for k, v in self.huffman_dict.items()}\n",
        "        for bit in self.encoded_text:\n",
        "            temp.append(bit)\n",
        "            key = temp.tobytes()\n",
        "            if key in inv_huffman_dict:\n",
        "                decoded_text.append(inv_huffman_dict[key])\n",
        "                temp.clear()\n",
        "\n",
        "        self.decoded_text = ''.join(self.input_str)"
      ],
      "metadata": {
        "id": "6TLTxZ23Oj0-"
      },
      "execution_count": 289,
      "outputs": []
    },
    {
      "cell_type": "markdown",
      "source": [
        "---\n",
        "For example we'll use the bellow string and trying to build a huffman tree for it.\n",
        "\n",
        "\n",
        "\n"
      ],
      "metadata": {
        "id": "4Rb_sYjc92QQ"
      }
    },
    {
      "cell_type": "code",
      "source": [
        "huf = Huffman(\"5b1n2a2s1$\")\n",
        "huf.huffman_tree()\n",
        "huf.huffman_encode()\n",
        "print(\"Encoded Bitarray:\", huf.encoded_text)\n",
        "\n",
        "huf.huffman_decode()\n",
        "print(\"Decoded RLE:\", huf.decoded_text)"
      ],
      "metadata": {
        "colab": {
          "base_uri": "https://localhost:8080/"
        },
        "id": "DmB9iH3SUAaj",
        "outputId": "769b420a-5e53-4eec-9c21-7fca3835d4f1"
      },
      "execution_count": 290,
      "outputs": [
        {
          "output_type": "stream",
          "name": "stdout",
          "text": [
            "Encoded Bitarray: bitarray('00000110111111110101100')\n",
            "Decoded RLE: 5b1n2a2s1$\n"
          ]
        }
      ]
    },
    {
      "cell_type": "code",
      "source": [
        "huf.huffman_decode()\n",
        "huf.decoded_text"
      ],
      "metadata": {
        "colab": {
          "base_uri": "https://localhost:8080/",
          "height": 35
        },
        "id": "99r1724rVRxO",
        "outputId": "07545af4-4d16-46e3-cdc9-436c233b422f"
      },
      "execution_count": 291,
      "outputs": [
        {
          "output_type": "execute_result",
          "data": {
            "text/plain": [
              "'5b1n2a2s1$'"
            ],
            "application/vnd.google.colaboratory.intrinsic+json": {
              "type": "string"
            }
          },
          "metadata": {},
          "execution_count": 291
        }
      ]
    },
    {
      "cell_type": "markdown",
      "source": [
        "\n",
        "# **Overview**\n",
        "---\n",
        "\n",
        "**Now let's try and use all the compression methods together**"
      ],
      "metadata": {
        "id": "04KLLOkf_CJO"
      }
    },
    {
      "cell_type": "markdown",
      "source": [
        "## Compressing using BWT :"
      ],
      "metadata": {
        "id": "QoHW_abmK-NM"
      }
    },
    {
      "cell_type": "code",
      "source": [
        "bwt_obj = BWT(\"bananas_without_b_is_ananas$\")\n",
        "bwt_obj.create_rotation()\n",
        "bwt_obj.sort_rotation()\n",
        "bwt_obj.find_bwt_output()\n",
        "\n",
        "bwt_obj.print_table(show_str1=True, show_str2=True)"
      ],
      "metadata": {
        "colab": {
          "base_uri": "https://localhost:8080/"
        },
        "id": "-cHscyMy_BGp",
        "outputId": "b65f7a1a-563c-4890-c84b-ae9fdb285e58"
      },
      "execution_count": 292,
      "outputs": [
        {
          "output_type": "stream",
          "name": "stdout",
          "text": [
            "+----------------*----------------------------------+\n",
            "|    BWT Output  :   sstbs_bnnnn_$t_waaaahaiauio_   |\n",
            "+----------------*----------------------------------+\n",
            "+------------------------------+------------------------------+------------------------------+------------------------------+\n",
            "|          Rotations           |       Sorted Rotations       |             STR1             |             STR2             |\n",
            "+------------------------------+------------------------------+------------------------------+------------------------------+\n",
            "| bananas_without_b_is_ananas$ | $bananas_without_b_is_ananas |              $               | bananas_without_b_is_ananas$ |\n",
            "| ananas_without_b_is_ananas$b | _ananas$bananas_without_b_is |              b$              | $ananas_without_b_is_ananas  |\n",
            "| nanas_without_b_is_ananas$ba | _b_is_ananas$bananas_without |             ba$              |  $nanas_without_b_is_ananas  |\n",
            "| anas_without_b_is_ananas$ban | _is_ananas$bananas_without_b |             ban$             |  $anas_without_b_is_ananas   |\n",
            "| nas_without_b_is_ananas$bana | _without_b_is_ananas$bananas |            bana$             |   $nas_without_b_is_ananas   |\n",
            "| as_without_b_is_ananas$banan | ananas$bananas_without_b_is_ |            banan$            |   $as_without_b_is_ananas    |\n",
            "| s_without_b_is_ananas$banana | ananas_without_b_is_ananas$b |           banana$            |    $s_without_b_is_ananas    |\n",
            "| _without_b_is_ananas$bananas | anas$bananas_without_b_is_an |           bananas$           |    $_without_b_is_ananas     |\n",
            "| without_b_is_ananas$bananas_ | anas_without_b_is_ananas$ban |          bananas_$           |     $without_b_is_ananas     |\n",
            "| ithout_b_is_ananas$bananas_w | as$bananas_without_b_is_anan |          bananas_w$          |     $ithout_b_is_ananas      |\n",
            "| thout_b_is_ananas$bananas_wi | as_without_b_is_ananas$banan |         bananas_wi$          |      $thout_b_is_ananas      |\n",
            "| hout_b_is_ananas$bananas_wit | b_is_ananas$bananas_without_ |         bananas_wit$         |      $hout_b_is_ananas       |\n",
            "| out_b_is_ananas$bananas_with | bananas_without_b_is_ananas$ |        bananas_with$         |       $out_b_is_ananas       |\n",
            "| ut_b_is_ananas$bananas_witho | hout_b_is_ananas$bananas_wit |        bananas_witho$        |       $ut_b_is_ananas        |\n",
            "| t_b_is_ananas$bananas_withou | is_ananas$bananas_without_b_ |       bananas_withou$        |        $t_b_is_ananas        |\n",
            "| _b_is_ananas$bananas_without | ithout_b_is_ananas$bananas_w |       bananas_without$       |        $_b_is_ananas         |\n",
            "| b_is_ananas$bananas_without_ | nanas$bananas_without_b_is_a |      bananas_without_$       |         $b_is_ananas         |\n",
            "| _is_ananas$bananas_without_b | nanas_without_b_is_ananas$ba |      bananas_without_b$      |         $_is_ananas          |\n",
            "| is_ananas$bananas_without_b_ | nas$bananas_without_b_is_ana |     bananas_without_b_$      |          $is_ananas          |\n",
            "| s_ananas$bananas_without_b_i | nas_without_b_is_ananas$bana |     bananas_without_b_i$     |          $s_ananas           |\n",
            "| _ananas$bananas_without_b_is | out_b_is_ananas$bananas_with |    bananas_without_b_is$     |           $_ananas           |\n",
            "| ananas$bananas_without_b_is_ | s$bananas_without_b_is_anana |    bananas_without_b_is_$    |           $ananas            |\n",
            "| nanas$bananas_without_b_is_a | s_ananas$bananas_without_b_i |   bananas_without_b_is_a$    |            $nanas            |\n",
            "| anas$bananas_without_b_is_an | s_without_b_is_ananas$banana |   bananas_without_b_is_an$   |            $anas             |\n",
            "| nas$bananas_without_b_is_ana | t_b_is_ananas$bananas_withou |  bananas_without_b_is_ana$   |             $nas             |\n",
            "| as$bananas_without_b_is_anan | thout_b_is_ananas$bananas_wi |  bananas_without_b_is_anan$  |             $as              |\n",
            "| s$bananas_without_b_is_anana | ut_b_is_ananas$bananas_witho | bananas_without_b_is_anana$  |              $s              |\n",
            "| $bananas_without_b_is_ananas | without_b_is_ananas$bananas_ | bananas_without_b_is_ananas$ |              $               |\n",
            "+------------------------------+------------------------------+------------------------------+------------------------------+\n"
          ]
        }
      ]
    },
    {
      "cell_type": "code",
      "source": [
        "bwt_obj.print_matrix()"
      ],
      "metadata": {
        "collapsed": true,
        "colab": {
          "base_uri": "https://localhost:8080/"
        },
        "id": "lPYBh_6x_6jZ",
        "outputId": "51a66a9f-e2f7-4d70-c736-ddb60620e317"
      },
      "execution_count": 293,
      "outputs": [
        {
          "output_type": "stream",
          "name": "stdout",
          "text": [
            "Sorted Matrix\n",
            "--  -  -  -  -  -  -  -  -  -  -  -  -  -  -  -  -  -  -  -  -  -  -  -  -  -  -  -  -\n",
            " 0  $  b  a  n  a  n  a  s  _  w  i  t  h  o  u  t  _  b  _  i  s  _  a  n  a  n  a  s\n",
            " 1  _  a  n  a  n  a  s  $  b  a  n  a  n  a  s  _  w  i  t  h  o  u  t  _  b  _  i  s\n",
            " 2  _  b  _  i  s  _  a  n  a  n  a  s  $  b  a  n  a  n  a  s  _  w  i  t  h  o  u  t\n",
            " 3  _  i  s  _  a  n  a  n  a  s  $  b  a  n  a  n  a  s  _  w  i  t  h  o  u  t  _  b\n",
            " 4  _  w  i  t  h  o  u  t  _  b  _  i  s  _  a  n  a  n  a  s  $  b  a  n  a  n  a  s\n",
            " 5  a  n  a  n  a  s  $  b  a  n  a  n  a  s  _  w  i  t  h  o  u  t  _  b  _  i  s  _\n",
            " 6  a  n  a  n  a  s  _  w  i  t  h  o  u  t  _  b  _  i  s  _  a  n  a  n  a  s  $  b\n",
            " 7  a  n  a  s  $  b  a  n  a  n  a  s  _  w  i  t  h  o  u  t  _  b  _  i  s  _  a  n\n",
            " 8  a  n  a  s  _  w  i  t  h  o  u  t  _  b  _  i  s  _  a  n  a  n  a  s  $  b  a  n\n",
            " 9  a  s  $  b  a  n  a  n  a  s  _  w  i  t  h  o  u  t  _  b  _  i  s  _  a  n  a  n\n",
            "10  a  s  _  w  i  t  h  o  u  t  _  b  _  i  s  _  a  n  a  n  a  s  $  b  a  n  a  n\n",
            "11  b  _  i  s  _  a  n  a  n  a  s  $  b  a  n  a  n  a  s  _  w  i  t  h  o  u  t  _\n",
            "12  b  a  n  a  n  a  s  _  w  i  t  h  o  u  t  _  b  _  i  s  _  a  n  a  n  a  s  $\n",
            "13  h  o  u  t  _  b  _  i  s  _  a  n  a  n  a  s  $  b  a  n  a  n  a  s  _  w  i  t\n",
            "14  i  s  _  a  n  a  n  a  s  $  b  a  n  a  n  a  s  _  w  i  t  h  o  u  t  _  b  _\n",
            "15  i  t  h  o  u  t  _  b  _  i  s  _  a  n  a  n  a  s  $  b  a  n  a  n  a  s  _  w\n",
            "16  n  a  n  a  s  $  b  a  n  a  n  a  s  _  w  i  t  h  o  u  t  _  b  _  i  s  _  a\n",
            "17  n  a  n  a  s  _  w  i  t  h  o  u  t  _  b  _  i  s  _  a  n  a  n  a  s  $  b  a\n",
            "18  n  a  s  $  b  a  n  a  n  a  s  _  w  i  t  h  o  u  t  _  b  _  i  s  _  a  n  a\n",
            "19  n  a  s  _  w  i  t  h  o  u  t  _  b  _  i  s  _  a  n  a  n  a  s  $  b  a  n  a\n",
            "20  o  u  t  _  b  _  i  s  _  a  n  a  n  a  s  $  b  a  n  a  n  a  s  _  w  i  t  h\n",
            "21  s  $  b  a  n  a  n  a  s  _  w  i  t  h  o  u  t  _  b  _  i  s  _  a  n  a  n  a\n",
            "22  s  _  a  n  a  n  a  s  $  b  a  n  a  n  a  s  _  w  i  t  h  o  u  t  _  b  _  i\n",
            "23  s  _  w  i  t  h  o  u  t  _  b  _  i  s  _  a  n  a  n  a  s  $  b  a  n  a  n  a\n",
            "24  t  _  b  _  i  s  _  a  n  a  n  a  s  $  b  a  n  a  n  a  s  _  w  i  t  h  o  u\n",
            "25  t  h  o  u  t  _  b  _  i  s  _  a  n  a  n  a  s  $  b  a  n  a  n  a  s  _  w  i\n",
            "26  u  t  _  b  _  i  s  _  a  n  a  n  a  s  $  b  a  n  a  n  a  s  _  w  i  t  h  o\n",
            "27  w  i  t  h  o  u  t  _  b  _  i  s  _  a  n  a  n  a  s  $  b  a  n  a  n  a  s  _\n",
            "--  -  -  -  -  -  -  -  -  -  -  -  -  -  -  -  -  -  -  -  -  -  -  -  -  -  -  -  -\n",
            "\n"
          ]
        }
      ]
    },
    {
      "cell_type": "markdown",
      "source": [
        "\n",
        "\n",
        "---\n",
        "## Further Compression using RLE\n",
        "\n",
        "Now, we'll give the BWT output as the input of the RLE for further compression"
      ],
      "metadata": {
        "id": "I_dpjtasKdes"
      }
    },
    {
      "cell_type": "code",
      "source": [
        "rle_obj = RLE(bwt_obj.bwt_output)\n",
        "rle_obj.rle_encode()\n",
        "rle_obj.print_output()"
      ],
      "metadata": {
        "colab": {
          "base_uri": "https://localhost:8080/"
        },
        "id": "zzELmDS6Acs4",
        "outputId": "5b23f4a6-47f4-4917-bb12-e02beae81874"
      },
      "execution_count": 294,
      "outputs": [
        {
          "output_type": "stream",
          "name": "stdout",
          "text": [
            "+---------------*----------------------------------+\n",
            "|    RLE Input  :   sstbs_bnnnn_$t_waaaahaiauio_   |\n",
            "+---------------*----------------------------------+\n",
            "+----------------*------------------------------------------------+\n",
            "|    RLE Output  :   2s1t1b1s1_1b4n1_1$1t1_1w4a1h1a1i1a1u1i1o1_   |\n",
            "+----------------*------------------------------------------------+\n"
          ]
        }
      ]
    },
    {
      "cell_type": "markdown",
      "source": [
        "## Converting to Binaries using HuffmanCoding"
      ],
      "metadata": {
        "id": "uA790bjNLk32"
      }
    },
    {
      "cell_type": "markdown",
      "source": [
        "We can build a huffman tree for the RLE output in order to convert the string into binaries"
      ],
      "metadata": {
        "id": "O5td6x2JL5sm"
      }
    },
    {
      "cell_type": "code",
      "source": [
        "huffman = Huffman(rle_obj.rle_output)\n",
        "huffman.huffman_tree()\n",
        "huffman.huffman_encode()\n",
        "\n",
        "dec = Decorator(\"Encoded RLE\", huffman.encoded_text)\n",
        "dec.full_decorator2()"
      ],
      "metadata": {
        "colab": {
          "base_uri": "https://localhost:8080/"
        },
        "id": "Q_4bD63II3uP",
        "outputId": "95b5f304-a681-4863-80a6-a997ddbe8532"
      },
      "execution_count": 295,
      "outputs": [
        {
          "output_type": "stream",
          "name": "stdout",
          "text": [
            "+-----------------------*-------------------------------------------------------------------------------------------------------------------+\n",
            "|    Encoded RLE  :   bitarray('1101110111100101110100110101101010100011001011100011000010001000100010001100100011101001111011111000011')   |\n",
            "+-----------------------*-------------------------------------------------------------------------------------------------------------------+\n"
          ]
        }
      ]
    },
    {
      "cell_type": "markdown",
      "source": [
        "\n",
        "\n",
        "---\n",
        "\n",
        "\n",
        "## Decompression\n",
        "\n",
        "Now that we've compressed our data, we should also be able to decompress it and return the original string before compression"
      ],
      "metadata": {
        "id": "g0C9fQr6lHcV"
      }
    },
    {
      "cell_type": "code",
      "source": [
        "huffman.huffman_decode()\n",
        "dec = Decorator(\"Decoded RLE\", huffman.decoded_text)\n",
        "dec.full_decorator1()"
      ],
      "metadata": {
        "colab": {
          "base_uri": "https://localhost:8080/"
        },
        "id": "OFV1NgqciBZG",
        "outputId": "7516748d-4839-4a38-fc27-afc325c2ec43"
      },
      "execution_count": 296,
      "outputs": [
        {
          "output_type": "stream",
          "name": "stdout",
          "text": [
            "+-----------------*------------------------------------------------+\n",
            "|    Decoded RLE  :   2s1t1b1s1_1b4n1_1$1t1_1w4a1h1a1i1a1u1i1o1_   |\n",
            "+-----------------*------------------------------------------------+\n"
          ]
        }
      ]
    },
    {
      "cell_type": "code",
      "source": [
        "rle_obj.rle_decode()"
      ],
      "metadata": {
        "colab": {
          "base_uri": "https://localhost:8080/",
          "height": 35
        },
        "id": "3TitFuEokF8w",
        "outputId": "c9103ea2-ac42-4800-e607-bce15746e6fd"
      },
      "execution_count": 301,
      "outputs": [
        {
          "output_type": "execute_result",
          "data": {
            "text/plain": [
              "'sstbs_bnnnn_$t_waaaahaiauio_'"
            ],
            "application/vnd.google.colaboratory.intrinsic+json": {
              "type": "string"
            }
          },
          "metadata": {},
          "execution_count": 301
        }
      ]
    },
    {
      "cell_type": "code",
      "source": [
        "bwt_obj.decode_bwt()"
      ],
      "metadata": {
        "colab": {
          "base_uri": "https://localhost:8080/",
          "height": 35
        },
        "id": "AxxIxfb6mGKR",
        "outputId": "249785a3-aef2-4e4e-d4ff-1fd890bf0ddc"
      },
      "execution_count": 302,
      "outputs": [
        {
          "output_type": "execute_result",
          "data": {
            "text/plain": [
              "'bananas_without_b_is_ananas$'"
            ],
            "application/vnd.google.colaboratory.intrinsic+json": {
              "type": "string"
            }
          },
          "metadata": {},
          "execution_count": 302
        }
      ]
    }
  ]
}