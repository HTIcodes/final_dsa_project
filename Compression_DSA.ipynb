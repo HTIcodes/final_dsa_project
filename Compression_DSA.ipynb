{
  "nbformat": 4,
  "nbformat_minor": 0,
  "metadata": {
    "colab": {
      "provenance": []
    },
    "kernelspec": {
      "name": "python3",
      "display_name": "Python 3"
    },
    "language_info": {
      "name": "python"
    }
  },
  "cells": [
    {
      "cell_type": "markdown",
      "source": [
        "#Implementing Burrows-Wheeler Transformation (BWT) and Decoding for Compression\n",
        "**Overview of Burrows-Wheeler Transformation**\n",
        "The Burrows-Wheeler Transformation is a preprocessing step in compression algorithms like bzip2. It reorders the input text to create long runs of repeated characters, which makes it more suitable for\n",
        "compression using run-length encoding or entropy coding.\n",
        "****\n",
        "**Steps of BWT**\n",
        "\n",
        "\n",
        "1.    **Input String**: Start with the original string and append a special end-of-string character (e.g., $)\n",
        "that is lexicographically smaller than all other characters\n",
        "2.    **Create Rotations**: Generate all cyclic rotations of the string.\n",
        "3.  **Sort Rotations**: Sort these rotations lexicographically.\n",
        "4.  **Output the Last Column**: Extract the last character of each sorted rotation to form the BWT\n",
        "output.\n",
        "\n",
        "****\n",
        "**Decoding the BWT**\n",
        "The decoding process reconstructs the original string from the transformed string.\n",
        "\n",
        "**Steps of Decoding**\n",
        "1. Input the BWT String: Start with the BWT string.\n",
        "2. Initialize the Table: Create an empty table with as many rows as the length of the string.\n",
        "3. Iteratively Sort: Insert the BWT string as a new column to the table and sort the rows\n",
        "lexicographically. Repeat until the table is complete.\n",
        "4. Identify Original String: Find the row ending with the special end-of-string character ($). Read\n",
        "off the characters row-wise to get the original string.\n",
        "\n",
        "\n"
      ],
      "metadata": {
        "id": "3m8nRwScXBvF"
      }
    },
    {
      "cell_type": "markdown",
      "source": [
        "## **BWT**"
      ],
      "metadata": {
        "id": "ymJaJ-5ACiKY"
      }
    },
    {
      "cell_type": "code",
      "source": [
        "# imports\n",
        "from pprint import pprint\n",
        "from prettytable import PrettyTable\n",
        "from tabulate import tabulate\n",
        "import heapq\n",
        "\n",
        "\n",
        "# Decorator :\n",
        "class Decorator:\n",
        "    def __init__(self, field_name, param1=\"\"):\n",
        "        self.field_name = field_name\n",
        "        self.param1 = param1\n",
        "\n",
        "    def dec1(self, end=\"\\n\"):\n",
        "        print(\"+\", end=\"\")\n",
        "        for i in range(len(self.field_name) + 6):\n",
        "            print(\"-\", end=\"\")\n",
        "        print(\"*\", end=\"\")\n",
        "\n",
        "        if self.param1 != \"\":\n",
        "            for i in range(len(self.param1) + 6):\n",
        "                print(\"-\", end=\"\")\n",
        "            print(\"+\", end=end)\n",
        "\n",
        "    def dec2(self, end=\"\"):\n",
        "        print(\"|\", self.field_name, end=end, sep=\"    \")\n",
        "        if self.param1 != \"\":\n",
        "            print(\"  :\", self.param1, \"|\", sep=\"   \")\n",
        "\n",
        "    def full_decorator(self):\n",
        "        self.dec1()\n",
        "        self.dec2()\n",
        "        self.dec1()\n",
        "\n",
        "\n",
        "class BWT:\n",
        "    # Constructor :\n",
        "    def __init__(self, input_str):\n",
        "        self.input_str = input_str\n",
        "        self.rotated = False\n",
        "        self.sorted = False\n",
        "        self.converted = False\n",
        "        self.str1 = [\"$\"]\n",
        "        self.str2 = [input_str]\n",
        "        self.bwt_li = [input_str]\n",
        "        self.sorted_bwt_li = []\n",
        "        self.matrix = []\n",
        "        self.first = dict()\n",
        "        self.last = ()\n",
        "        self.ranks = []\n",
        "        self.s_freq = dict()\n",
        "        self.bwt_output = \"\"\n",
        "\n",
        "    # Checks whether the input string contains only one $ or not\n",
        "    def is_valid(self):\n",
        "        ds_count = 0\n",
        "        for i in self.input_str:\n",
        "            if i == \"$\":\n",
        "                ds_count += 1\n",
        "\n",
        "        if ds_count == 1:\n",
        "            return True\n",
        "\n",
        "        return False\n",
        "\n",
        "    # Create rotations for the given string and store it in self.bwt_li if the string is valid\n",
        "    def create_rotation(self):\n",
        "        if self.is_valid():\n",
        "            new_input_str = self.input_str[0:len(self.input_str) - 1]\n",
        "            for i in range(len(new_input_str)):\n",
        "                str1 = self.input_str[:i + 1]\n",
        "                str2 = self.input_str[i + 1:len(self.input_str) - 1]\n",
        "                self.str1.append(str1 + \"$\")\n",
        "                self.str2.append(\"$\" + str2)\n",
        "                rotated_str = str2 + \"$\" + str1\n",
        "                self.bwt_li.append(rotated_str)\n",
        "            self.rotated = True\n",
        "\n",
        "    # Sort the created rotations and store it in self.sorted_bwt_li, if only the string is valid and was rotated\n",
        "    def sort_rotation(self):\n",
        "        if self.is_valid() and self.rotated:\n",
        "            self.sorted_bwt_li = sorted(self.bwt_li)\n",
        "            self.sorted = True\n",
        "\n",
        "    # Finding the actual value of BWT (output) from the sorted bwt list\n",
        "    def find_bwt_output(self):\n",
        "        if self.rotated and self.sorted:\n",
        "            for i in self.sorted_bwt_li:\n",
        "                self.bwt_output += i[len(self.input_str) - 1]\n",
        "\n",
        "            return self.bwt_output\n",
        "\n",
        "    # functions to show the results\n",
        "    def print_table(self, show_bwt_output=False, show_str1=False, show_str2=False):\n",
        "\n",
        "        if self.rotated:\n",
        "            table = PrettyTable()\n",
        "            table.add_column(\"Rotations\", column=self.bwt_li)\n",
        "            if self.sorted:\n",
        "                table.add_column(\"Sorted Rotations\", column=self.sorted_bwt_li)\n",
        "\n",
        "            if show_bwt_output:\n",
        "                dec = Decorator(\"BWT Output\", self.bwt_output)\n",
        "                dec.full_decorator()\n",
        "\n",
        "            if show_str1:\n",
        "                table.add_column(\"STR1\", column=self.str1)\n",
        "\n",
        "            if show_str2:\n",
        "                table.add_column(\"STR2\", column=self.str2)\n",
        "\n",
        "            print(table)\n",
        "\n",
        "    def print_matrix(self, show_sorted=True, show_rotated=False, show_str1=False, show_str2=False):\n",
        "        if self.sorted and show_sorted:\n",
        "            print(\"Sorted Matrix\")\n",
        "            print(tabulate(self.sorted_bwt_li, showindex=True), end=\"\\n\\n\")\n",
        "\n",
        "        if self.rotated and show_rotated:\n",
        "            print(\"Rotations Matrix\")\n",
        "            print(tabulate(self.bwt_li, showindex=True), end=\"\\n\\n\")\n",
        "\n",
        "        if show_str1:\n",
        "            print(\"Str1 Matrix\")\n",
        "            print(tabulate(self.str1, showindex=True), end=\"\\n\\n\")\n",
        "        if show_str2:\n",
        "            print(\"Str2 Matrix\")\n",
        "            print(tabulate(self.str2, showindex=True), end=\"\\n\\n\")\n",
        "\n",
        "    # Converting the sorted rotations to matrix\n",
        "    def converting_matrix(self, show=False):\n",
        "        for i in self.sorted_bwt_li:\n",
        "            self.matrix.append(list(i))\n",
        "\n",
        "        if show:\n",
        "            pprint(self.matrix)\n",
        "        self.converted = True\n",
        "\n",
        "        return self.matrix\n",
        "\n",
        "    # Ranking the characters from the BWT output based on their occurrences\n",
        "    def rank_bwt(self):\n",
        "        for char in self.bwt_output:\n",
        "            if char not in self.s_freq:\n",
        "                self.s_freq[char] = 0\n",
        "            self.ranks.append(self.s_freq[char])\n",
        "            self.s_freq[char] += 1\n",
        "        return self.ranks, self.s_freq\n",
        "\n",
        "    def first_col(self):\n",
        "        c_freq = 0\n",
        "        for c, count in sorted(self.s_freq.items()):\n",
        "            self.first[c] = (c_freq, c_freq + count)\n",
        "            c_freq += count\n",
        "\n",
        "        return self.first\n",
        "\n",
        "    def reverse_bwt(self):\n",
        "        # running the rank_bwt and first_col methods to get the first column and ranking of the characters\n",
        "        self.rank_bwt()\n",
        "        self.first_col()\n",
        "\n",
        "        # Starting at the position of '$' in bwt_output\n",
        "        row_i = self.bwt_output.index('$')\n",
        "        reconstructed_str = \"\"\n",
        "\n",
        "        # Rebuild the original string by iterating until we have all characters (it equals to length of input string)\n",
        "        for _ in range(len(self.input_str)):\n",
        "            # Append the current character (last column) to the reconstructed string\n",
        "            reconstructed_str = self.bwt_output[row_i] + reconstructed_str\n",
        "\n",
        "            # Find the next row index by using the rank of the character in the first column\n",
        "            char = reconstructed_str[0]\n",
        "            row_i = self.first[char][0] + self.ranks[row_i]\n",
        "\n",
        "        return reconstructed_str"
      ],
      "metadata": {
        "id": "SpXdVd2aEReD"
      },
      "execution_count": null,
      "outputs": []
    },
    {
      "cell_type": "code",
      "source": [
        "bwt = BWT(\"banana$\")\n",
        "bwt.create_rotation()\n",
        "bwt.sort_rotation()\n",
        "bwt.find_bwt_output()\n",
        "bwt.print_table(show_bwt_output=True, show_str1=True, show_str2=True)\n",
        "print()\n",
        "bwt.converting_matrix(show=False)\n",
        "print(bwt.reverse_bwt())"
      ],
      "metadata": {
        "colab": {
          "base_uri": "https://localhost:8080/"
        },
        "id": "jc0V8AG4Ea4t",
        "outputId": "69589599-32dc-4e8f-cff9-ad8bf5573e07"
      },
      "execution_count": null,
      "outputs": [
        {
          "output_type": "stream",
          "name": "stdout",
          "text": [
            "+----------------*-------------+\n",
            "|    BWT Output  :   annb$aa   |\n",
            "+----------------*-------------+\n",
            "+-----------+------------------+---------+---------+\n",
            "| Rotations | Sorted Rotations |   STR1  |   STR2  |\n",
            "+-----------+------------------+---------+---------+\n",
            "|  banana$  |     $banana      |    $    | banana$ |\n",
            "|  anana$b  |     a$banan      |    b$   |  $anana |\n",
            "|  nana$ba  |     ana$ban      |   ba$   |  $nana  |\n",
            "|  ana$ban  |     anana$b      |   ban$  |   $ana  |\n",
            "|  na$bana  |     banana$      |  bana$  |   $na   |\n",
            "|  a$banan  |     na$bana      |  banan$ |    $a   |\n",
            "|  $banana  |     nana$ba      | banana$ |    $    |\n",
            "+-----------+------------------+---------+---------+\n",
            "\n",
            "banana$\n",
            "{'a': 3, 'n': 2, 'b': 1, '$': 1}\n"
          ]
        }
      ]
    },
    {
      "cell_type": "markdown",
      "source": [
        "#**Run-Length Encoding (RLE)**\n",
        "****\n",
        "Run-Length Encoding is a simple compression algorithm often used in conjunction with BWT to take\n",
        "advantage of the repeated characters in the transformed string. It works by replacing sequences of the\n",
        "same character with a single character and a count of its repetitions.\n",
        "****\n",
        "**Steps of RLE**\n",
        "1. Traverse the String: Iterate through the string, keeping track of consecutive occurrences of each\n",
        "character.\n",
        "2. Output Compressed Form: For each sequence of repeated characters, output the character\n",
        "followed by the count of repetitions\n",
        "****\n",
        "**Example**\n",
        "* Input: aaabbbbcc\n",
        "* RLE Output: a3b4c2\n",
        "\n",
        "**Advantages**\n",
        "* Works best for strings with long runs of repeated characters (e.g., BWT output).\n",
        "* Simple to implement and efficient for specific data types.\n"
      ],
      "metadata": {
        "id": "ASOC4pt6oZKr"
      }
    },
    {
      "cell_type": "markdown",
      "source": [
        "## **RLE**"
      ],
      "metadata": {
        "id": "rMqVXRXQCmNa"
      }
    },
    {
      "cell_type": "code",
      "source": [
        "class RLE:\n",
        "    def __init__(self, input_str):\n",
        "        self.input_str = input_str\n",
        "        self.rle_output_ = \"\"\n",
        "\n",
        "    def rle_encode(self):\n",
        "        encoded_str = []\n",
        "        count = 1\n",
        "\n",
        "        for i in range(1, len(self.input_str)):\n",
        "            if self.input_str[i] == self.input_str[i-1]:\n",
        "                count+=1\n",
        "            else:\n",
        "                encoded_str.append(f\"{count}{self.input_str[i-1]}\")\n",
        "                count = 1\n",
        "        encoded_str.append(f\"{count}{self.input_str[-1]}\")\n",
        "\n",
        "        self.rle_output_ = ''.join(encoded_str)\n",
        "\n",
        "    def rle_decode(self):\n",
        "        decoded_str = []\n",
        "        count = ''\n",
        "\n",
        "        for char in self.rle_output_:\n",
        "            if char.isdigit():\n",
        "                count += char\n",
        "            else:\n",
        "                decoded_str.append(char * int(count))\n",
        "                count = ''\n",
        "\n",
        "        return ''.join(decoded_str)"
      ],
      "metadata": {
        "id": "TMTp7-88LGkS"
      },
      "execution_count": null,
      "outputs": []
    },
    {
      "cell_type": "code",
      "source": [
        "bwt.bwt_output"
      ],
      "metadata": {
        "colab": {
          "base_uri": "https://localhost:8080/",
          "height": 36
        },
        "id": "mXB6fKStMehV",
        "outputId": "322ca867-f431-4d1c-f25f-bed411b71932"
      },
      "execution_count": null,
      "outputs": [
        {
          "output_type": "execute_result",
          "data": {
            "text/plain": [
              "'annb$aa'"
            ],
            "application/vnd.google.colaboratory.intrinsic+json": {
              "type": "string"
            }
          },
          "metadata": {},
          "execution_count": 9
        }
      ]
    },
    {
      "cell_type": "code",
      "source": [
        "rle = RLE(bwt.bwt_output)\n",
        "rle.rle_encode()\n",
        "rle.rle_output_"
      ],
      "metadata": {
        "colab": {
          "base_uri": "https://localhost:8080/",
          "height": 36
        },
        "id": "K6BXM3LDMyS0",
        "outputId": "673de9e8-e613-4758-9d7b-7efa74ce5dd9"
      },
      "execution_count": null,
      "outputs": [
        {
          "output_type": "execute_result",
          "data": {
            "text/plain": [
              "'1a2n1b1$2a'"
            ],
            "application/vnd.google.colaboratory.intrinsic+json": {
              "type": "string"
            }
          },
          "metadata": {},
          "execution_count": 10
        }
      ]
    },
    {
      "cell_type": "code",
      "source": [
        "rle.rle_decode()"
      ],
      "metadata": {
        "colab": {
          "base_uri": "https://localhost:8080/",
          "height": 36
        },
        "id": "WUEQJyhtM8HV",
        "outputId": "a87f4fcd-7024-48d4-de12-d920af83c040"
      },
      "execution_count": null,
      "outputs": [
        {
          "output_type": "execute_result",
          "data": {
            "text/plain": [
              "'annb$aa'"
            ],
            "application/vnd.google.colaboratory.intrinsic+json": {
              "type": "string"
            }
          },
          "metadata": {},
          "execution_count": 11
        }
      ]
    },
    {
      "cell_type": "markdown",
      "source": [
        "#**Huffman Coding**\n",
        "Huffman Coding is an entropy-based compression algorithm that assigns variable-length codes to\n",
        "characters based on their frequencies. More frequent characters get shorter codes.\n",
        "****\n",
        "**Steps of Huffman Coding**\n",
        "1. Build Frequency Table: Count the frequency of each character in the input string.\n",
        "2. Build Huffman Tree: Construct a binary tree where each leaf node represents a character, and\n",
        "the path from root to leaf determines its code.\n",
        "3. Generate Codes: Assign binary codes to characters based on the tree structure.\n",
        "4. Encode the String: Replace each character in the input with its corresponding code\n",
        "****\n",
        "**Advantages**\n",
        "* Provides optimal compression for a given set of character frequencies.\n",
        "* Frequently used in conjunction with BWT for high-performance compression algorithms.\n"
      ],
      "metadata": {
        "id": "BKD8zZSRpcIy"
      }
    },
    {
      "cell_type": "markdown",
      "source": [
        "## **Huffman**"
      ],
      "metadata": {
        "id": "CMaE_OjKCpul"
      }
    },
    {
      "cell_type": "code",
      "source": [
        "! pip install bitarray"
      ],
      "metadata": {
        "colab": {
          "base_uri": "https://localhost:8080/"
        },
        "id": "XOFcWyuUR4QW",
        "outputId": "26f71f7d-8a56-4da6-94a9-6e79df4c2b0a"
      },
      "execution_count": null,
      "outputs": [
        {
          "output_type": "stream",
          "name": "stdout",
          "text": [
            "Collecting bitarray\n",
            "  Downloading bitarray-3.0.0-cp310-cp310-manylinux_2_17_x86_64.manylinux2014_x86_64.whl.metadata (32 kB)\n",
            "Downloading bitarray-3.0.0-cp310-cp310-manylinux_2_17_x86_64.manylinux2014_x86_64.whl (278 kB)\n",
            "\u001b[?25l   \u001b[90m━━━━━━━━━━━━━━━━━━━━━━━━━━━━━━━━━━━━━━━━\u001b[0m \u001b[32m0.0/278.3 kB\u001b[0m \u001b[31m?\u001b[0m eta \u001b[36m-:--:--\u001b[0m\r\u001b[2K   \u001b[90m━━━━━━━━━━━━━━━━━━━━━━━━━━━━━━━━━━━━━━━━\u001b[0m \u001b[32m278.3/278.3 kB\u001b[0m \u001b[31m19.1 MB/s\u001b[0m eta \u001b[36m0:00:00\u001b[0m\n",
            "\u001b[?25hInstalling collected packages: bitarray\n",
            "Successfully installed bitarray-3.0.0\n"
          ]
        }
      ]
    },
    {
      "cell_type": "code",
      "source": [
        "from heapq import heappush, heappop, heapify\n",
        "from collections import defaultdict\n",
        "from bitarray import bitarray\n",
        "\n",
        "class Huffman:\n",
        "    def __init__(self, input_str):\n",
        "        self.input_str = input_str\n",
        "        self.huffman_dict = dict()\n",
        "        self.encoded_text = bitarray()\n",
        "        self.decoded_text = \"\"\n",
        "\n",
        "    def frequency(self):\n",
        "        freq = defaultdict(int)\n",
        "        for char in self.input_str:\n",
        "            freq[char] += 1\n",
        "        return freq\n",
        "\n",
        "    def huffman_tree(self):\n",
        "        freq = self.frequency()\n",
        "        heap = [[fq, [sym, \"\"]] for sym, fq in freq.items()]\n",
        "        heapify(heap)\n",
        "        print(heap)\n",
        "        while len(heap) > 1:\n",
        "          # heappop - Pop and return the smallest item from the heap\n",
        "          right = heappop(heap)\n",
        "          left = heappop(heap)\n",
        "\n",
        "          for pair in right[1:]:\n",
        "              # add zero to all the right\n",
        "              pair[1] = '0' + pair[1]\n",
        "          for pair in left[1:]:\n",
        "              # add one to all the left\n",
        "              pair[1] = '1' + pair[1]\n",
        "\n",
        "          # add values onto the heap. Eg. h = []; heappush(h, (5, 'write code')) --> h = [(5, 'write code')]\n",
        "          heappush(heap, [right[0] + left[0]] + right[1:] + left[1:])\n",
        "\n",
        "          huffman_list = right[1:] + left[1:]\n",
        "\n",
        "        self.huffman_dict = {a[0]:bitarray(str(a[1])) for a in huffman_list}\n",
        "        print(self.huffman_dict)\n",
        "\n",
        "    def huffman_encode(self):\n",
        "        self.encoded_text.encode(self.huffman_dict, self.input_str)\n",
        "\n",
        "    def huffman_decode(self):\n",
        "        decoded_text = self.encoded_text.decode(self.huffman_dict)\n",
        "        self.decoded_text = ''.join(decoded_text)"
      ],
      "metadata": {
        "id": "6TLTxZ23Oj0-"
      },
      "execution_count": null,
      "outputs": []
    },
    {
      "cell_type": "code",
      "source": [
        "huf = Huffman(\"bbbbbnaass$\")"
      ],
      "metadata": {
        "id": "UgQRe5EJRkaU"
      },
      "execution_count": null,
      "outputs": []
    },
    {
      "cell_type": "code",
      "source": [
        "huf.huffman_tree()"
      ],
      "metadata": {
        "colab": {
          "base_uri": "https://localhost:8080/"
        },
        "id": "dyVaWw07RtUf",
        "outputId": "5b9b8d60-9d37-4725-a437-d2f3415ba204"
      },
      "execution_count": null,
      "outputs": [
        {
          "output_type": "stream",
          "name": "stdout",
          "text": [
            "[[1, ['$', '']], [1, ['n', '']], [2, ['a', '']], [2, ['s', '']], [5, ['b', '']]]\n",
            "{'b': bitarray('0'), 's': bitarray('10'), '$': bitarray('1100'), 'n': bitarray('1101'), 'a': bitarray('111')}\n"
          ]
        }
      ]
    },
    {
      "cell_type": "code",
      "source": [
        "huf.huffman_encode()\n",
        "huf.encoded_text"
      ],
      "metadata": {
        "colab": {
          "base_uri": "https://localhost:8080/"
        },
        "id": "DmB9iH3SUAaj",
        "outputId": "fe6e77e5-d992-4ab7-b2ef-a20b86e0918e"
      },
      "execution_count": null,
      "outputs": [
        {
          "output_type": "execute_result",
          "data": {
            "text/plain": [
              "bitarray('00000110111111110101100')"
            ]
          },
          "metadata": {},
          "execution_count": 67
        }
      ]
    },
    {
      "cell_type": "code",
      "source": [
        "huf.huffman_decode()\n",
        "huf.decoded_text"
      ],
      "metadata": {
        "colab": {
          "base_uri": "https://localhost:8080/",
          "height": 36
        },
        "id": "99r1724rVRxO",
        "outputId": "8bcae4be-b652-4a46-e61a-4ef25c6f6088"
      },
      "execution_count": null,
      "outputs": [
        {
          "output_type": "execute_result",
          "data": {
            "text/plain": [
              "'bbbbbnaass$'"
            ],
            "application/vnd.google.colaboratory.intrinsic+json": {
              "type": "string"
            }
          },
          "metadata": {},
          "execution_count": 68
        }
      ]
    }
  ]
}